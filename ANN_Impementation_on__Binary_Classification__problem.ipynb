{
  "nbformat": 4,
  "nbformat_minor": 0,
  "metadata": {
    "colab": {
      "name": "ANN_Impementation_on _Binary_Classification _problem",
      "provenance": [],
      "collapsed_sections": [],
      "authorship_tag": "ABX9TyOvDqORXnLRzoNkWnz5qMLh",
      "include_colab_link": true
    },
    "kernelspec": {
      "name": "python3",
      "display_name": "Python 3"
    },
    "language_info": {
      "name": "python"
    }
  },
  "cells": [
    {
      "cell_type": "markdown",
      "metadata": {
        "id": "view-in-github",
        "colab_type": "text"
      },
      "source": [
        "<a href=\"https://colab.research.google.com/github/anjalisuthar/ANN-for-binary-classification/blob/main/ANN_Impementation_on__Binary_Classification__problem.ipynb\" target=\"_parent\"><img src=\"https://colab.research.google.com/assets/colab-badge.svg\" alt=\"Open In Colab\"/></a>"
      ]
    },
    {
      "cell_type": "markdown",
      "source": [
        "#interview question\n",
        "\n",
        "QUe 1: for which all algoritem **feature scaling is required**??\n",
        "\n",
        "Ans:-required for:- ANN(artifical nural network) ,Linear Regression, logicstic regrassion, KNN , K Means\n",
        "- which all alogritms requires : \n",
        "    - alogritems are  related to distance based: In distace based values is bigger so calculation take time  so we use for quick conversion\n",
        "    -gredient descent: - its involved in linear , logistic regression\n",
        "    - used when optimizer is invovles\n",
        "\n",
        "-not nesseory for/ not required :-dession Tree, Rf random forest , xg boost\n",
        "\n",
        "\n",
        "Que 2 : fit_transform why its apply only to traning data x_train not to test??\n",
        "      \n",
        "Que 3 : transform apply in test data X_test??\n",
        "\n",
        "que 4: what is different between fit_transform v/s transform??\n",
        "\n",
        "Ans: 2,3,4- fit_ transfrom and transform used in test data becouse of\n",
        "             Avoid data leakage (another ans i need to search)\n"
      ],
      "metadata": {
        "id": "Kdd5cfzrzjWT"
      }
    },
    {
      "cell_type": "markdown",
      "source": [
        "# Taking about kears and Tenserflow\n",
        "\n",
        "-tansorflow is open source by google created by deep minds team\n",
        "\n",
        "-pytourch is from facebook\n",
        "\n",
        "-some thing same features in both\n",
        "\n",
        "- before tenserflow 2.0 : tenserflow was separate and kears is basically a wrapper in which kearas use tenserflow api only,call simple function and use tenserflow . in this Phase we are install tenserflow separatly after the kears sparatly and the use\n",
        "\n",
        "- after 2.0 : keras + tenserflow  is integrated"
      ],
      "metadata": {
        "id": "rOIwLkv189fp"
      }
    },
    {
      "cell_type": "markdown",
      "source": [
        "# what is black box v/s white box model\n",
        "* in black box we can not moniter and see each weight its difficult, can not directly see how it is working intenally \n",
        "\n",
        "\n",
        "-random forest , ANN , CNN, RNN: black box  \n",
        "\n",
        "- Desision tree , linear regression: white box\n"
      ],
      "metadata": {
        "id": "zTnTTzZuWWKw"
      }
    },
    {
      "cell_type": "code",
      "execution_count": null,
      "metadata": {
        "colab": {
          "base_uri": "https://localhost:8080/"
        },
        "id": "Bvy43kyeZYE-",
        "outputId": "da0ae49e-13bf-4988-e3e9-c072c6f9ac79"
      },
      "outputs": [
        {
          "output_type": "stream",
          "name": "stdout",
          "text": [
            "\n",
            "Usage:   \n",
            "  pip3 install [options] <requirement specifier> [package-index-options] ...\n",
            "  pip3 install [options] -r <requirements file> [package-index-options] ...\n",
            "  pip3 install [options] [-e] <vcs project url> ...\n",
            "  pip3 install [options] [-e] <local project path> ...\n",
            "  pip3 install [options] <archive url/path> ...\n",
            "\n",
            "no such option: -g\n"
          ]
        }
      ],
      "source": [
        "!pip install tensorflow -gpu"
      ]
    },
    {
      "cell_type": "code",
      "source": [
        "import tensorflow as tf"
      ],
      "metadata": {
        "id": "CiT23vI1cyDQ"
      },
      "execution_count": null,
      "outputs": []
    },
    {
      "cell_type": "code",
      "source": [
        "print(tf.__version__)"
      ],
      "metadata": {
        "colab": {
          "base_uri": "https://localhost:8080/"
        },
        "id": "wb2M1ecIhMYc",
        "outputId": "a911e3b3-f302-4878-dc68-32169f5a4e10"
      },
      "execution_count": null,
      "outputs": [
        {
          "output_type": "stream",
          "name": "stdout",
          "text": [
            "2.8.0\n"
          ]
        }
      ]
    },
    {
      "cell_type": "code",
      "source": [
        "import numpy as np\n",
        "import matplotlib.pyplot as plt\n",
        "import pandas as pd"
      ],
      "metadata": {
        "id": "6KweYJ9KhdRw"
      },
      "execution_count": null,
      "outputs": []
    },
    {
      "cell_type": "code",
      "source": [
        "dset = pd.read_csv('/content/Churn_Modelling.csv')\n",
        "#binary classification problem\n"
      ],
      "metadata": {
        "id": "JVMNdsLxhvNf"
      },
      "execution_count": null,
      "outputs": []
    },
    {
      "cell_type": "markdown",
      "source": [
        ""
      ],
      "metadata": {
        "id": "5ZfwdYnVtXeM"
      }
    },
    {
      "cell_type": "markdown",
      "source": [
        "Problem statement\n",
        "\n",
        "we are going to predict whether customer  going to exit that perticular bank or any company whether all these products are there been use in a specific bank or whether they are going to just exit in a future case or not.\n",
        "\n",
        " so if you really prevent execulation like they do not want to quick the bank so we should definatly provide some more services.\n",
        "\n",
        " check wherther customer are exit or not.\n",
        " exit are dependent feature\n",
        " all others are independent feature.\n"
      ],
      "metadata": {
        "id": "aKHOZRuFmroq"
      }
    },
    {
      "cell_type": "code",
      "source": [
        "dset.head()\n"
      ],
      "metadata": {
        "colab": {
          "base_uri": "https://localhost:8080/",
          "height": 270
        },
        "id": "dRk5qEbAiAox",
        "outputId": "590a4db0-20ff-4834-bcb0-7f03f620807c"
      },
      "execution_count": null,
      "outputs": [
        {
          "output_type": "execute_result",
          "data": {
            "text/plain": [
              "   RowNumber  CustomerId   Surname  CreditScore Geography  Gender  Age  \\\n",
              "0          1    15634602  Hargrave          619    France  Female   42   \n",
              "1          2    15647311      Hill          608     Spain  Female   41   \n",
              "2          3    15619304      Onio          502    France  Female   42   \n",
              "3          4    15701354      Boni          699    France  Female   39   \n",
              "4          5    15737888  Mitchell          850     Spain  Female   43   \n",
              "\n",
              "   Tenure    Balance  NumOfProducts  HasCrCard  IsActiveMember  \\\n",
              "0       2       0.00              1          1               1   \n",
              "1       1   83807.86              1          0               1   \n",
              "2       8  159660.80              3          1               0   \n",
              "3       1       0.00              2          0               0   \n",
              "4       2  125510.82              1          1               1   \n",
              "\n",
              "   EstimatedSalary  Exited  \n",
              "0        101348.88       1  \n",
              "1        112542.58       0  \n",
              "2        113931.57       1  \n",
              "3         93826.63       0  \n",
              "4         79084.10       0  "
            ],
            "text/html": [
              "\n",
              "  <div id=\"df-d9d79c1a-7e49-40ed-810f-a6c8e0f43b31\">\n",
              "    <div class=\"colab-df-container\">\n",
              "      <div>\n",
              "<style scoped>\n",
              "    .dataframe tbody tr th:only-of-type {\n",
              "        vertical-align: middle;\n",
              "    }\n",
              "\n",
              "    .dataframe tbody tr th {\n",
              "        vertical-align: top;\n",
              "    }\n",
              "\n",
              "    .dataframe thead th {\n",
              "        text-align: right;\n",
              "    }\n",
              "</style>\n",
              "<table border=\"1\" class=\"dataframe\">\n",
              "  <thead>\n",
              "    <tr style=\"text-align: right;\">\n",
              "      <th></th>\n",
              "      <th>RowNumber</th>\n",
              "      <th>CustomerId</th>\n",
              "      <th>Surname</th>\n",
              "      <th>CreditScore</th>\n",
              "      <th>Geography</th>\n",
              "      <th>Gender</th>\n",
              "      <th>Age</th>\n",
              "      <th>Tenure</th>\n",
              "      <th>Balance</th>\n",
              "      <th>NumOfProducts</th>\n",
              "      <th>HasCrCard</th>\n",
              "      <th>IsActiveMember</th>\n",
              "      <th>EstimatedSalary</th>\n",
              "      <th>Exited</th>\n",
              "    </tr>\n",
              "  </thead>\n",
              "  <tbody>\n",
              "    <tr>\n",
              "      <th>0</th>\n",
              "      <td>1</td>\n",
              "      <td>15634602</td>\n",
              "      <td>Hargrave</td>\n",
              "      <td>619</td>\n",
              "      <td>France</td>\n",
              "      <td>Female</td>\n",
              "      <td>42</td>\n",
              "      <td>2</td>\n",
              "      <td>0.00</td>\n",
              "      <td>1</td>\n",
              "      <td>1</td>\n",
              "      <td>1</td>\n",
              "      <td>101348.88</td>\n",
              "      <td>1</td>\n",
              "    </tr>\n",
              "    <tr>\n",
              "      <th>1</th>\n",
              "      <td>2</td>\n",
              "      <td>15647311</td>\n",
              "      <td>Hill</td>\n",
              "      <td>608</td>\n",
              "      <td>Spain</td>\n",
              "      <td>Female</td>\n",
              "      <td>41</td>\n",
              "      <td>1</td>\n",
              "      <td>83807.86</td>\n",
              "      <td>1</td>\n",
              "      <td>0</td>\n",
              "      <td>1</td>\n",
              "      <td>112542.58</td>\n",
              "      <td>0</td>\n",
              "    </tr>\n",
              "    <tr>\n",
              "      <th>2</th>\n",
              "      <td>3</td>\n",
              "      <td>15619304</td>\n",
              "      <td>Onio</td>\n",
              "      <td>502</td>\n",
              "      <td>France</td>\n",
              "      <td>Female</td>\n",
              "      <td>42</td>\n",
              "      <td>8</td>\n",
              "      <td>159660.80</td>\n",
              "      <td>3</td>\n",
              "      <td>1</td>\n",
              "      <td>0</td>\n",
              "      <td>113931.57</td>\n",
              "      <td>1</td>\n",
              "    </tr>\n",
              "    <tr>\n",
              "      <th>3</th>\n",
              "      <td>4</td>\n",
              "      <td>15701354</td>\n",
              "      <td>Boni</td>\n",
              "      <td>699</td>\n",
              "      <td>France</td>\n",
              "      <td>Female</td>\n",
              "      <td>39</td>\n",
              "      <td>1</td>\n",
              "      <td>0.00</td>\n",
              "      <td>2</td>\n",
              "      <td>0</td>\n",
              "      <td>0</td>\n",
              "      <td>93826.63</td>\n",
              "      <td>0</td>\n",
              "    </tr>\n",
              "    <tr>\n",
              "      <th>4</th>\n",
              "      <td>5</td>\n",
              "      <td>15737888</td>\n",
              "      <td>Mitchell</td>\n",
              "      <td>850</td>\n",
              "      <td>Spain</td>\n",
              "      <td>Female</td>\n",
              "      <td>43</td>\n",
              "      <td>2</td>\n",
              "      <td>125510.82</td>\n",
              "      <td>1</td>\n",
              "      <td>1</td>\n",
              "      <td>1</td>\n",
              "      <td>79084.10</td>\n",
              "      <td>0</td>\n",
              "    </tr>\n",
              "  </tbody>\n",
              "</table>\n",
              "</div>\n",
              "      <button class=\"colab-df-convert\" onclick=\"convertToInteractive('df-d9d79c1a-7e49-40ed-810f-a6c8e0f43b31')\"\n",
              "              title=\"Convert this dataframe to an interactive table.\"\n",
              "              style=\"display:none;\">\n",
              "        \n",
              "  <svg xmlns=\"http://www.w3.org/2000/svg\" height=\"24px\"viewBox=\"0 0 24 24\"\n",
              "       width=\"24px\">\n",
              "    <path d=\"M0 0h24v24H0V0z\" fill=\"none\"/>\n",
              "    <path d=\"M18.56 5.44l.94 2.06.94-2.06 2.06-.94-2.06-.94-.94-2.06-.94 2.06-2.06.94zm-11 1L8.5 8.5l.94-2.06 2.06-.94-2.06-.94L8.5 2.5l-.94 2.06-2.06.94zm10 10l.94 2.06.94-2.06 2.06-.94-2.06-.94-.94-2.06-.94 2.06-2.06.94z\"/><path d=\"M17.41 7.96l-1.37-1.37c-.4-.4-.92-.59-1.43-.59-.52 0-1.04.2-1.43.59L10.3 9.45l-7.72 7.72c-.78.78-.78 2.05 0 2.83L4 21.41c.39.39.9.59 1.41.59.51 0 1.02-.2 1.41-.59l7.78-7.78 2.81-2.81c.8-.78.8-2.07 0-2.86zM5.41 20L4 18.59l7.72-7.72 1.47 1.35L5.41 20z\"/>\n",
              "  </svg>\n",
              "      </button>\n",
              "      \n",
              "  <style>\n",
              "    .colab-df-container {\n",
              "      display:flex;\n",
              "      flex-wrap:wrap;\n",
              "      gap: 12px;\n",
              "    }\n",
              "\n",
              "    .colab-df-convert {\n",
              "      background-color: #E8F0FE;\n",
              "      border: none;\n",
              "      border-radius: 50%;\n",
              "      cursor: pointer;\n",
              "      display: none;\n",
              "      fill: #1967D2;\n",
              "      height: 32px;\n",
              "      padding: 0 0 0 0;\n",
              "      width: 32px;\n",
              "    }\n",
              "\n",
              "    .colab-df-convert:hover {\n",
              "      background-color: #E2EBFA;\n",
              "      box-shadow: 0px 1px 2px rgba(60, 64, 67, 0.3), 0px 1px 3px 1px rgba(60, 64, 67, 0.15);\n",
              "      fill: #174EA6;\n",
              "    }\n",
              "\n",
              "    [theme=dark] .colab-df-convert {\n",
              "      background-color: #3B4455;\n",
              "      fill: #D2E3FC;\n",
              "    }\n",
              "\n",
              "    [theme=dark] .colab-df-convert:hover {\n",
              "      background-color: #434B5C;\n",
              "      box-shadow: 0px 1px 3px 1px rgba(0, 0, 0, 0.15);\n",
              "      filter: drop-shadow(0px 1px 2px rgba(0, 0, 0, 0.3));\n",
              "      fill: #FFFFFF;\n",
              "    }\n",
              "  </style>\n",
              "\n",
              "      <script>\n",
              "        const buttonEl =\n",
              "          document.querySelector('#df-d9d79c1a-7e49-40ed-810f-a6c8e0f43b31 button.colab-df-convert');\n",
              "        buttonEl.style.display =\n",
              "          google.colab.kernel.accessAllowed ? 'block' : 'none';\n",
              "\n",
              "        async function convertToInteractive(key) {\n",
              "          const element = document.querySelector('#df-d9d79c1a-7e49-40ed-810f-a6c8e0f43b31');\n",
              "          const dataTable =\n",
              "            await google.colab.kernel.invokeFunction('convertToInteractive',\n",
              "                                                     [key], {});\n",
              "          if (!dataTable) return;\n",
              "\n",
              "          const docLinkHtml = 'Like what you see? Visit the ' +\n",
              "            '<a target=\"_blank\" href=https://colab.research.google.com/notebooks/data_table.ipynb>data table notebook</a>'\n",
              "            + ' to learn more about interactive tables.';\n",
              "          element.innerHTML = '';\n",
              "          dataTable['output_type'] = 'display_data';\n",
              "          await google.colab.output.renderOutput(dataTable, element);\n",
              "          const docLink = document.createElement('div');\n",
              "          docLink.innerHTML = docLinkHtml;\n",
              "          element.appendChild(docLink);\n",
              "        }\n",
              "      </script>\n",
              "    </div>\n",
              "  </div>\n",
              "  "
            ]
          },
          "metadata": {},
          "execution_count": 156
        }
      ]
    },
    {
      "cell_type": "code",
      "source": [
        "#divide the data set into independent and depended feature\n",
        "\n",
        "# for independ feature\n",
        "X = dset.iloc[:,3:13]     # iloc : index location\n",
        "\n",
        "#for dependent feature\n",
        "Y = dset.iloc[:,13]\n"
      ],
      "metadata": {
        "id": "ORv6-uVXnJCf"
      },
      "execution_count": null,
      "outputs": []
    },
    {
      "cell_type": "markdown",
      "source": [
        "**`dset.iloc[:,3:13]  `**:-using iloc feature i am going to use index location row and column wise.\n",
        "\n",
        "I want all row denoted by \n",
        "\n",
        "formate iloc:\n",
        "\n",
        " **[all row: ,starting column index: ending colum index]**\n",
        "\n",
        "\n",
        "i am goint to remove column 0,1,2 (i dont want rownumber , cust id, surname)\n"
      ],
      "metadata": {
        "id": "_BoMofGYoNTn"
      }
    },
    {
      "cell_type": "code",
      "source": [
        "X.head()   # all independet feature"
      ],
      "metadata": {
        "colab": {
          "base_uri": "https://localhost:8080/",
          "height": 270
        },
        "id": "BXz_wpiwpZWN",
        "outputId": "13650154-3a87-4447-d37b-346dd0eaec9d"
      },
      "execution_count": null,
      "outputs": [
        {
          "output_type": "execute_result",
          "data": {
            "text/plain": [
              "   CreditScore Geography  Gender  Age  Tenure    Balance  NumOfProducts  \\\n",
              "0          619    France  Female   42       2       0.00              1   \n",
              "1          608     Spain  Female   41       1   83807.86              1   \n",
              "2          502    France  Female   42       8  159660.80              3   \n",
              "3          699    France  Female   39       1       0.00              2   \n",
              "4          850     Spain  Female   43       2  125510.82              1   \n",
              "\n",
              "   HasCrCard  IsActiveMember  EstimatedSalary  \n",
              "0          1               1        101348.88  \n",
              "1          0               1        112542.58  \n",
              "2          1               0        113931.57  \n",
              "3          0               0         93826.63  \n",
              "4          1               1         79084.10  "
            ],
            "text/html": [
              "\n",
              "  <div id=\"df-9e42de59-35c9-4a87-8ea3-3b83d8384e3e\">\n",
              "    <div class=\"colab-df-container\">\n",
              "      <div>\n",
              "<style scoped>\n",
              "    .dataframe tbody tr th:only-of-type {\n",
              "        vertical-align: middle;\n",
              "    }\n",
              "\n",
              "    .dataframe tbody tr th {\n",
              "        vertical-align: top;\n",
              "    }\n",
              "\n",
              "    .dataframe thead th {\n",
              "        text-align: right;\n",
              "    }\n",
              "</style>\n",
              "<table border=\"1\" class=\"dataframe\">\n",
              "  <thead>\n",
              "    <tr style=\"text-align: right;\">\n",
              "      <th></th>\n",
              "      <th>CreditScore</th>\n",
              "      <th>Geography</th>\n",
              "      <th>Gender</th>\n",
              "      <th>Age</th>\n",
              "      <th>Tenure</th>\n",
              "      <th>Balance</th>\n",
              "      <th>NumOfProducts</th>\n",
              "      <th>HasCrCard</th>\n",
              "      <th>IsActiveMember</th>\n",
              "      <th>EstimatedSalary</th>\n",
              "    </tr>\n",
              "  </thead>\n",
              "  <tbody>\n",
              "    <tr>\n",
              "      <th>0</th>\n",
              "      <td>619</td>\n",
              "      <td>France</td>\n",
              "      <td>Female</td>\n",
              "      <td>42</td>\n",
              "      <td>2</td>\n",
              "      <td>0.00</td>\n",
              "      <td>1</td>\n",
              "      <td>1</td>\n",
              "      <td>1</td>\n",
              "      <td>101348.88</td>\n",
              "    </tr>\n",
              "    <tr>\n",
              "      <th>1</th>\n",
              "      <td>608</td>\n",
              "      <td>Spain</td>\n",
              "      <td>Female</td>\n",
              "      <td>41</td>\n",
              "      <td>1</td>\n",
              "      <td>83807.86</td>\n",
              "      <td>1</td>\n",
              "      <td>0</td>\n",
              "      <td>1</td>\n",
              "      <td>112542.58</td>\n",
              "    </tr>\n",
              "    <tr>\n",
              "      <th>2</th>\n",
              "      <td>502</td>\n",
              "      <td>France</td>\n",
              "      <td>Female</td>\n",
              "      <td>42</td>\n",
              "      <td>8</td>\n",
              "      <td>159660.80</td>\n",
              "      <td>3</td>\n",
              "      <td>1</td>\n",
              "      <td>0</td>\n",
              "      <td>113931.57</td>\n",
              "    </tr>\n",
              "    <tr>\n",
              "      <th>3</th>\n",
              "      <td>699</td>\n",
              "      <td>France</td>\n",
              "      <td>Female</td>\n",
              "      <td>39</td>\n",
              "      <td>1</td>\n",
              "      <td>0.00</td>\n",
              "      <td>2</td>\n",
              "      <td>0</td>\n",
              "      <td>0</td>\n",
              "      <td>93826.63</td>\n",
              "    </tr>\n",
              "    <tr>\n",
              "      <th>4</th>\n",
              "      <td>850</td>\n",
              "      <td>Spain</td>\n",
              "      <td>Female</td>\n",
              "      <td>43</td>\n",
              "      <td>2</td>\n",
              "      <td>125510.82</td>\n",
              "      <td>1</td>\n",
              "      <td>1</td>\n",
              "      <td>1</td>\n",
              "      <td>79084.10</td>\n",
              "    </tr>\n",
              "  </tbody>\n",
              "</table>\n",
              "</div>\n",
              "      <button class=\"colab-df-convert\" onclick=\"convertToInteractive('df-9e42de59-35c9-4a87-8ea3-3b83d8384e3e')\"\n",
              "              title=\"Convert this dataframe to an interactive table.\"\n",
              "              style=\"display:none;\">\n",
              "        \n",
              "  <svg xmlns=\"http://www.w3.org/2000/svg\" height=\"24px\"viewBox=\"0 0 24 24\"\n",
              "       width=\"24px\">\n",
              "    <path d=\"M0 0h24v24H0V0z\" fill=\"none\"/>\n",
              "    <path d=\"M18.56 5.44l.94 2.06.94-2.06 2.06-.94-2.06-.94-.94-2.06-.94 2.06-2.06.94zm-11 1L8.5 8.5l.94-2.06 2.06-.94-2.06-.94L8.5 2.5l-.94 2.06-2.06.94zm10 10l.94 2.06.94-2.06 2.06-.94-2.06-.94-.94-2.06-.94 2.06-2.06.94z\"/><path d=\"M17.41 7.96l-1.37-1.37c-.4-.4-.92-.59-1.43-.59-.52 0-1.04.2-1.43.59L10.3 9.45l-7.72 7.72c-.78.78-.78 2.05 0 2.83L4 21.41c.39.39.9.59 1.41.59.51 0 1.02-.2 1.41-.59l7.78-7.78 2.81-2.81c.8-.78.8-2.07 0-2.86zM5.41 20L4 18.59l7.72-7.72 1.47 1.35L5.41 20z\"/>\n",
              "  </svg>\n",
              "      </button>\n",
              "      \n",
              "  <style>\n",
              "    .colab-df-container {\n",
              "      display:flex;\n",
              "      flex-wrap:wrap;\n",
              "      gap: 12px;\n",
              "    }\n",
              "\n",
              "    .colab-df-convert {\n",
              "      background-color: #E8F0FE;\n",
              "      border: none;\n",
              "      border-radius: 50%;\n",
              "      cursor: pointer;\n",
              "      display: none;\n",
              "      fill: #1967D2;\n",
              "      height: 32px;\n",
              "      padding: 0 0 0 0;\n",
              "      width: 32px;\n",
              "    }\n",
              "\n",
              "    .colab-df-convert:hover {\n",
              "      background-color: #E2EBFA;\n",
              "      box-shadow: 0px 1px 2px rgba(60, 64, 67, 0.3), 0px 1px 3px 1px rgba(60, 64, 67, 0.15);\n",
              "      fill: #174EA6;\n",
              "    }\n",
              "\n",
              "    [theme=dark] .colab-df-convert {\n",
              "      background-color: #3B4455;\n",
              "      fill: #D2E3FC;\n",
              "    }\n",
              "\n",
              "    [theme=dark] .colab-df-convert:hover {\n",
              "      background-color: #434B5C;\n",
              "      box-shadow: 0px 1px 3px 1px rgba(0, 0, 0, 0.15);\n",
              "      filter: drop-shadow(0px 1px 2px rgba(0, 0, 0, 0.3));\n",
              "      fill: #FFFFFF;\n",
              "    }\n",
              "  </style>\n",
              "\n",
              "      <script>\n",
              "        const buttonEl =\n",
              "          document.querySelector('#df-9e42de59-35c9-4a87-8ea3-3b83d8384e3e button.colab-df-convert');\n",
              "        buttonEl.style.display =\n",
              "          google.colab.kernel.accessAllowed ? 'block' : 'none';\n",
              "\n",
              "        async function convertToInteractive(key) {\n",
              "          const element = document.querySelector('#df-9e42de59-35c9-4a87-8ea3-3b83d8384e3e');\n",
              "          const dataTable =\n",
              "            await google.colab.kernel.invokeFunction('convertToInteractive',\n",
              "                                                     [key], {});\n",
              "          if (!dataTable) return;\n",
              "\n",
              "          const docLinkHtml = 'Like what you see? Visit the ' +\n",
              "            '<a target=\"_blank\" href=https://colab.research.google.com/notebooks/data_table.ipynb>data table notebook</a>'\n",
              "            + ' to learn more about interactive tables.';\n",
              "          element.innerHTML = '';\n",
              "          dataTable['output_type'] = 'display_data';\n",
              "          await google.colab.output.renderOutput(dataTable, element);\n",
              "          const docLink = document.createElement('div');\n",
              "          docLink.innerHTML = docLinkHtml;\n",
              "          element.appendChild(docLink);\n",
              "        }\n",
              "      </script>\n",
              "    </div>\n",
              "  </div>\n",
              "  "
            ]
          },
          "metadata": {},
          "execution_count": 158
        }
      ]
    },
    {
      "cell_type": "code",
      "source": [
        "Y   #see output/ dependent  feature use Y.head() also"
      ],
      "metadata": {
        "colab": {
          "base_uri": "https://localhost:8080/"
        },
        "id": "tY7kizXHplNH",
        "outputId": "83bdc3e6-f40c-4172-f572-8a6b7fdd76c9"
      },
      "execution_count": null,
      "outputs": [
        {
          "output_type": "execute_result",
          "data": {
            "text/plain": [
              "0       1\n",
              "1       0\n",
              "2       1\n",
              "3       0\n",
              "4       0\n",
              "       ..\n",
              "9995    0\n",
              "9996    0\n",
              "9997    1\n",
              "9998    1\n",
              "9999    0\n",
              "Name: Exited, Length: 10000, dtype: int64"
            ]
          },
          "metadata": {},
          "execution_count": 159
        }
      ]
    },
    {
      "cell_type": "markdown",
      "source": [
        "\n",
        "#Feature convesion Phase started here\n",
        "\n"
      ],
      "metadata": {
        "id": "PUMDSRDXxANS"
      }
    },
    {
      "cell_type": "code",
      "source": [
        "#Feature Enginerring:\n",
        "#Step 1: covert into catergorical feature means covert string to in/float\n",
        "pd.get_dummies(X['Geography'], drop_first = True)\n"
      ],
      "metadata": {
        "colab": {
          "base_uri": "https://localhost:8080/",
          "height": 423
        },
        "id": "_IXE3BNtqadz",
        "outputId": "49c245b3-fe5a-43a0-eab3-6e9fe3d024cd"
      },
      "execution_count": null,
      "outputs": [
        {
          "output_type": "execute_result",
          "data": {
            "text/plain": [
              "      Germany  Spain\n",
              "0           0      0\n",
              "1           0      1\n",
              "2           0      0\n",
              "3           0      0\n",
              "4           0      1\n",
              "...       ...    ...\n",
              "9995        0      0\n",
              "9996        0      0\n",
              "9997        0      0\n",
              "9998        1      0\n",
              "9999        0      0\n",
              "\n",
              "[10000 rows x 2 columns]"
            ],
            "text/html": [
              "\n",
              "  <div id=\"df-ae23922d-5725-4d60-b3d2-40c48c3cc38f\">\n",
              "    <div class=\"colab-df-container\">\n",
              "      <div>\n",
              "<style scoped>\n",
              "    .dataframe tbody tr th:only-of-type {\n",
              "        vertical-align: middle;\n",
              "    }\n",
              "\n",
              "    .dataframe tbody tr th {\n",
              "        vertical-align: top;\n",
              "    }\n",
              "\n",
              "    .dataframe thead th {\n",
              "        text-align: right;\n",
              "    }\n",
              "</style>\n",
              "<table border=\"1\" class=\"dataframe\">\n",
              "  <thead>\n",
              "    <tr style=\"text-align: right;\">\n",
              "      <th></th>\n",
              "      <th>Germany</th>\n",
              "      <th>Spain</th>\n",
              "    </tr>\n",
              "  </thead>\n",
              "  <tbody>\n",
              "    <tr>\n",
              "      <th>0</th>\n",
              "      <td>0</td>\n",
              "      <td>0</td>\n",
              "    </tr>\n",
              "    <tr>\n",
              "      <th>1</th>\n",
              "      <td>0</td>\n",
              "      <td>1</td>\n",
              "    </tr>\n",
              "    <tr>\n",
              "      <th>2</th>\n",
              "      <td>0</td>\n",
              "      <td>0</td>\n",
              "    </tr>\n",
              "    <tr>\n",
              "      <th>3</th>\n",
              "      <td>0</td>\n",
              "      <td>0</td>\n",
              "    </tr>\n",
              "    <tr>\n",
              "      <th>4</th>\n",
              "      <td>0</td>\n",
              "      <td>1</td>\n",
              "    </tr>\n",
              "    <tr>\n",
              "      <th>...</th>\n",
              "      <td>...</td>\n",
              "      <td>...</td>\n",
              "    </tr>\n",
              "    <tr>\n",
              "      <th>9995</th>\n",
              "      <td>0</td>\n",
              "      <td>0</td>\n",
              "    </tr>\n",
              "    <tr>\n",
              "      <th>9996</th>\n",
              "      <td>0</td>\n",
              "      <td>0</td>\n",
              "    </tr>\n",
              "    <tr>\n",
              "      <th>9997</th>\n",
              "      <td>0</td>\n",
              "      <td>0</td>\n",
              "    </tr>\n",
              "    <tr>\n",
              "      <th>9998</th>\n",
              "      <td>1</td>\n",
              "      <td>0</td>\n",
              "    </tr>\n",
              "    <tr>\n",
              "      <th>9999</th>\n",
              "      <td>0</td>\n",
              "      <td>0</td>\n",
              "    </tr>\n",
              "  </tbody>\n",
              "</table>\n",
              "<p>10000 rows × 2 columns</p>\n",
              "</div>\n",
              "      <button class=\"colab-df-convert\" onclick=\"convertToInteractive('df-ae23922d-5725-4d60-b3d2-40c48c3cc38f')\"\n",
              "              title=\"Convert this dataframe to an interactive table.\"\n",
              "              style=\"display:none;\">\n",
              "        \n",
              "  <svg xmlns=\"http://www.w3.org/2000/svg\" height=\"24px\"viewBox=\"0 0 24 24\"\n",
              "       width=\"24px\">\n",
              "    <path d=\"M0 0h24v24H0V0z\" fill=\"none\"/>\n",
              "    <path d=\"M18.56 5.44l.94 2.06.94-2.06 2.06-.94-2.06-.94-.94-2.06-.94 2.06-2.06.94zm-11 1L8.5 8.5l.94-2.06 2.06-.94-2.06-.94L8.5 2.5l-.94 2.06-2.06.94zm10 10l.94 2.06.94-2.06 2.06-.94-2.06-.94-.94-2.06-.94 2.06-2.06.94z\"/><path d=\"M17.41 7.96l-1.37-1.37c-.4-.4-.92-.59-1.43-.59-.52 0-1.04.2-1.43.59L10.3 9.45l-7.72 7.72c-.78.78-.78 2.05 0 2.83L4 21.41c.39.39.9.59 1.41.59.51 0 1.02-.2 1.41-.59l7.78-7.78 2.81-2.81c.8-.78.8-2.07 0-2.86zM5.41 20L4 18.59l7.72-7.72 1.47 1.35L5.41 20z\"/>\n",
              "  </svg>\n",
              "      </button>\n",
              "      \n",
              "  <style>\n",
              "    .colab-df-container {\n",
              "      display:flex;\n",
              "      flex-wrap:wrap;\n",
              "      gap: 12px;\n",
              "    }\n",
              "\n",
              "    .colab-df-convert {\n",
              "      background-color: #E8F0FE;\n",
              "      border: none;\n",
              "      border-radius: 50%;\n",
              "      cursor: pointer;\n",
              "      display: none;\n",
              "      fill: #1967D2;\n",
              "      height: 32px;\n",
              "      padding: 0 0 0 0;\n",
              "      width: 32px;\n",
              "    }\n",
              "\n",
              "    .colab-df-convert:hover {\n",
              "      background-color: #E2EBFA;\n",
              "      box-shadow: 0px 1px 2px rgba(60, 64, 67, 0.3), 0px 1px 3px 1px rgba(60, 64, 67, 0.15);\n",
              "      fill: #174EA6;\n",
              "    }\n",
              "\n",
              "    [theme=dark] .colab-df-convert {\n",
              "      background-color: #3B4455;\n",
              "      fill: #D2E3FC;\n",
              "    }\n",
              "\n",
              "    [theme=dark] .colab-df-convert:hover {\n",
              "      background-color: #434B5C;\n",
              "      box-shadow: 0px 1px 3px 1px rgba(0, 0, 0, 0.15);\n",
              "      filter: drop-shadow(0px 1px 2px rgba(0, 0, 0, 0.3));\n",
              "      fill: #FFFFFF;\n",
              "    }\n",
              "  </style>\n",
              "\n",
              "      <script>\n",
              "        const buttonEl =\n",
              "          document.querySelector('#df-ae23922d-5725-4d60-b3d2-40c48c3cc38f button.colab-df-convert');\n",
              "        buttonEl.style.display =\n",
              "          google.colab.kernel.accessAllowed ? 'block' : 'none';\n",
              "\n",
              "        async function convertToInteractive(key) {\n",
              "          const element = document.querySelector('#df-ae23922d-5725-4d60-b3d2-40c48c3cc38f');\n",
              "          const dataTable =\n",
              "            await google.colab.kernel.invokeFunction('convertToInteractive',\n",
              "                                                     [key], {});\n",
              "          if (!dataTable) return;\n",
              "\n",
              "          const docLinkHtml = 'Like what you see? Visit the ' +\n",
              "            '<a target=\"_blank\" href=https://colab.research.google.com/notebooks/data_table.ipynb>data table notebook</a>'\n",
              "            + ' to learn more about interactive tables.';\n",
              "          element.innerHTML = '';\n",
              "          dataTable['output_type'] = 'display_data';\n",
              "          await google.colab.output.renderOutput(dataTable, element);\n",
              "          const docLink = document.createElement('div');\n",
              "          docLink.innerHTML = docLinkHtml;\n",
              "          element.appendChild(docLink);\n",
              "        }\n",
              "      </script>\n",
              "    </div>\n",
              "  </div>\n",
              "  "
            ]
          },
          "metadata": {},
          "execution_count": 160
        }
      ]
    },
    {
      "cell_type": "markdown",
      "source": [
        "# feature Enginerring part:\n",
        "-we care goint to handle  chatagorical features\n",
        "covert into string to int/float\n",
        "\n",
        "-Geography hase 3 value france,germany, spain : accoring to row index no whenever thoes data arrive to index no they covert like index 1 hase spain then assign 1 to spain all other are 0\n",
        "this all coversion can done through OneHot Encorder\n",
        " \n",
        "-for convestion we use onehotEncorder or dummies\n",
        "\n",
        "-drop_first = true: it represent remove france , when ever france come in picture all other location- become 0 so we can say that, that index fall into france location(using 2 location data meaning mininizing data bt didnt loss the actual thing, we say that all 2 location become 0 the remaning(france ) become 1)\n"
      ],
      "metadata": {
        "id": "aEGL1hPnrE8S"
      }
    },
    {
      "cell_type": "code",
      "source": [
        "# step 1.2 : coverted and assign lable\n",
        "geography = pd.get_dummies(X['Geography'], drop_first = True)\n",
        "gender = pd.get_dummies(X['Gender'], drop_first = True)\n"
      ],
      "metadata": {
        "id": "UtqUOjTBtuNO"
      },
      "execution_count": null,
      "outputs": []
    },
    {
      "cell_type": "code",
      "source": [
        "# step 2 : drop orignial feature\n",
        "X=X.drop(['Geography', 'Gender'], axis =1)\n",
        " # drop 2 column axis =1: say that drop the column dont drop row"
      ],
      "metadata": {
        "id": "_lFQmPgut3bz"
      },
      "execution_count": null,
      "outputs": []
    },
    {
      "cell_type": "code",
      "source": [
        "X.head() # updated X"
      ],
      "metadata": {
        "colab": {
          "base_uri": "https://localhost:8080/",
          "height": 270
        },
        "id": "wXzmWsb1urVD",
        "outputId": "3dab197e-71bf-4c46-c177-ba1147080d33"
      },
      "execution_count": null,
      "outputs": [
        {
          "output_type": "execute_result",
          "data": {
            "text/plain": [
              "   CreditScore  Age  Tenure    Balance  NumOfProducts  HasCrCard  \\\n",
              "0          619   42       2       0.00              1          1   \n",
              "1          608   41       1   83807.86              1          0   \n",
              "2          502   42       8  159660.80              3          1   \n",
              "3          699   39       1       0.00              2          0   \n",
              "4          850   43       2  125510.82              1          1   \n",
              "\n",
              "   IsActiveMember  EstimatedSalary  \n",
              "0               1        101348.88  \n",
              "1               1        112542.58  \n",
              "2               0        113931.57  \n",
              "3               0         93826.63  \n",
              "4               1         79084.10  "
            ],
            "text/html": [
              "\n",
              "  <div id=\"df-4ef62f62-2b1d-4527-90ca-064d5f50ce1b\">\n",
              "    <div class=\"colab-df-container\">\n",
              "      <div>\n",
              "<style scoped>\n",
              "    .dataframe tbody tr th:only-of-type {\n",
              "        vertical-align: middle;\n",
              "    }\n",
              "\n",
              "    .dataframe tbody tr th {\n",
              "        vertical-align: top;\n",
              "    }\n",
              "\n",
              "    .dataframe thead th {\n",
              "        text-align: right;\n",
              "    }\n",
              "</style>\n",
              "<table border=\"1\" class=\"dataframe\">\n",
              "  <thead>\n",
              "    <tr style=\"text-align: right;\">\n",
              "      <th></th>\n",
              "      <th>CreditScore</th>\n",
              "      <th>Age</th>\n",
              "      <th>Tenure</th>\n",
              "      <th>Balance</th>\n",
              "      <th>NumOfProducts</th>\n",
              "      <th>HasCrCard</th>\n",
              "      <th>IsActiveMember</th>\n",
              "      <th>EstimatedSalary</th>\n",
              "    </tr>\n",
              "  </thead>\n",
              "  <tbody>\n",
              "    <tr>\n",
              "      <th>0</th>\n",
              "      <td>619</td>\n",
              "      <td>42</td>\n",
              "      <td>2</td>\n",
              "      <td>0.00</td>\n",
              "      <td>1</td>\n",
              "      <td>1</td>\n",
              "      <td>1</td>\n",
              "      <td>101348.88</td>\n",
              "    </tr>\n",
              "    <tr>\n",
              "      <th>1</th>\n",
              "      <td>608</td>\n",
              "      <td>41</td>\n",
              "      <td>1</td>\n",
              "      <td>83807.86</td>\n",
              "      <td>1</td>\n",
              "      <td>0</td>\n",
              "      <td>1</td>\n",
              "      <td>112542.58</td>\n",
              "    </tr>\n",
              "    <tr>\n",
              "      <th>2</th>\n",
              "      <td>502</td>\n",
              "      <td>42</td>\n",
              "      <td>8</td>\n",
              "      <td>159660.80</td>\n",
              "      <td>3</td>\n",
              "      <td>1</td>\n",
              "      <td>0</td>\n",
              "      <td>113931.57</td>\n",
              "    </tr>\n",
              "    <tr>\n",
              "      <th>3</th>\n",
              "      <td>699</td>\n",
              "      <td>39</td>\n",
              "      <td>1</td>\n",
              "      <td>0.00</td>\n",
              "      <td>2</td>\n",
              "      <td>0</td>\n",
              "      <td>0</td>\n",
              "      <td>93826.63</td>\n",
              "    </tr>\n",
              "    <tr>\n",
              "      <th>4</th>\n",
              "      <td>850</td>\n",
              "      <td>43</td>\n",
              "      <td>2</td>\n",
              "      <td>125510.82</td>\n",
              "      <td>1</td>\n",
              "      <td>1</td>\n",
              "      <td>1</td>\n",
              "      <td>79084.10</td>\n",
              "    </tr>\n",
              "  </tbody>\n",
              "</table>\n",
              "</div>\n",
              "      <button class=\"colab-df-convert\" onclick=\"convertToInteractive('df-4ef62f62-2b1d-4527-90ca-064d5f50ce1b')\"\n",
              "              title=\"Convert this dataframe to an interactive table.\"\n",
              "              style=\"display:none;\">\n",
              "        \n",
              "  <svg xmlns=\"http://www.w3.org/2000/svg\" height=\"24px\"viewBox=\"0 0 24 24\"\n",
              "       width=\"24px\">\n",
              "    <path d=\"M0 0h24v24H0V0z\" fill=\"none\"/>\n",
              "    <path d=\"M18.56 5.44l.94 2.06.94-2.06 2.06-.94-2.06-.94-.94-2.06-.94 2.06-2.06.94zm-11 1L8.5 8.5l.94-2.06 2.06-.94-2.06-.94L8.5 2.5l-.94 2.06-2.06.94zm10 10l.94 2.06.94-2.06 2.06-.94-2.06-.94-.94-2.06-.94 2.06-2.06.94z\"/><path d=\"M17.41 7.96l-1.37-1.37c-.4-.4-.92-.59-1.43-.59-.52 0-1.04.2-1.43.59L10.3 9.45l-7.72 7.72c-.78.78-.78 2.05 0 2.83L4 21.41c.39.39.9.59 1.41.59.51 0 1.02-.2 1.41-.59l7.78-7.78 2.81-2.81c.8-.78.8-2.07 0-2.86zM5.41 20L4 18.59l7.72-7.72 1.47 1.35L5.41 20z\"/>\n",
              "  </svg>\n",
              "      </button>\n",
              "      \n",
              "  <style>\n",
              "    .colab-df-container {\n",
              "      display:flex;\n",
              "      flex-wrap:wrap;\n",
              "      gap: 12px;\n",
              "    }\n",
              "\n",
              "    .colab-df-convert {\n",
              "      background-color: #E8F0FE;\n",
              "      border: none;\n",
              "      border-radius: 50%;\n",
              "      cursor: pointer;\n",
              "      display: none;\n",
              "      fill: #1967D2;\n",
              "      height: 32px;\n",
              "      padding: 0 0 0 0;\n",
              "      width: 32px;\n",
              "    }\n",
              "\n",
              "    .colab-df-convert:hover {\n",
              "      background-color: #E2EBFA;\n",
              "      box-shadow: 0px 1px 2px rgba(60, 64, 67, 0.3), 0px 1px 3px 1px rgba(60, 64, 67, 0.15);\n",
              "      fill: #174EA6;\n",
              "    }\n",
              "\n",
              "    [theme=dark] .colab-df-convert {\n",
              "      background-color: #3B4455;\n",
              "      fill: #D2E3FC;\n",
              "    }\n",
              "\n",
              "    [theme=dark] .colab-df-convert:hover {\n",
              "      background-color: #434B5C;\n",
              "      box-shadow: 0px 1px 3px 1px rgba(0, 0, 0, 0.15);\n",
              "      filter: drop-shadow(0px 1px 2px rgba(0, 0, 0, 0.3));\n",
              "      fill: #FFFFFF;\n",
              "    }\n",
              "  </style>\n",
              "\n",
              "      <script>\n",
              "        const buttonEl =\n",
              "          document.querySelector('#df-4ef62f62-2b1d-4527-90ca-064d5f50ce1b button.colab-df-convert');\n",
              "        buttonEl.style.display =\n",
              "          google.colab.kernel.accessAllowed ? 'block' : 'none';\n",
              "\n",
              "        async function convertToInteractive(key) {\n",
              "          const element = document.querySelector('#df-4ef62f62-2b1d-4527-90ca-064d5f50ce1b');\n",
              "          const dataTable =\n",
              "            await google.colab.kernel.invokeFunction('convertToInteractive',\n",
              "                                                     [key], {});\n",
              "          if (!dataTable) return;\n",
              "\n",
              "          const docLinkHtml = 'Like what you see? Visit the ' +\n",
              "            '<a target=\"_blank\" href=https://colab.research.google.com/notebooks/data_table.ipynb>data table notebook</a>'\n",
              "            + ' to learn more about interactive tables.';\n",
              "          element.innerHTML = '';\n",
              "          dataTable['output_type'] = 'display_data';\n",
              "          await google.colab.output.renderOutput(dataTable, element);\n",
              "          const docLink = document.createElement('div');\n",
              "          docLink.innerHTML = docLinkHtml;\n",
              "          element.appendChild(docLink);\n",
              "        }\n",
              "      </script>\n",
              "    </div>\n",
              "  </div>\n",
              "  "
            ]
          },
          "metadata": {},
          "execution_count": 163
        }
      ]
    },
    {
      "cell_type": "code",
      "source": [
        "# final concatenation done here  i m wring step how? in below section\n",
        "# step 3 :  concate converted data which are stroed into lable to thoes data frame attech at end\n",
        "\n",
        "X = pd.concat([X,geography,gender], axis =1)\n",
        "X.head()  # update x\n"
      ],
      "metadata": {
        "colab": {
          "base_uri": "https://localhost:8080/",
          "height": 270
        },
        "id": "EOEKRI14uzT5",
        "outputId": "54126722-fd6c-4447-8144-b960554b5864"
      },
      "execution_count": null,
      "outputs": [
        {
          "output_type": "execute_result",
          "data": {
            "text/plain": [
              "   CreditScore  Age  Tenure    Balance  NumOfProducts  HasCrCard  \\\n",
              "0          619   42       2       0.00              1          1   \n",
              "1          608   41       1   83807.86              1          0   \n",
              "2          502   42       8  159660.80              3          1   \n",
              "3          699   39       1       0.00              2          0   \n",
              "4          850   43       2  125510.82              1          1   \n",
              "\n",
              "   IsActiveMember  EstimatedSalary  Germany  Spain  Male  \n",
              "0               1        101348.88        0      0     0  \n",
              "1               1        112542.58        0      1     0  \n",
              "2               0        113931.57        0      0     0  \n",
              "3               0         93826.63        0      0     0  \n",
              "4               1         79084.10        0      1     0  "
            ],
            "text/html": [
              "\n",
              "  <div id=\"df-da47aa5e-3682-4919-a8d0-f6e0348f08a8\">\n",
              "    <div class=\"colab-df-container\">\n",
              "      <div>\n",
              "<style scoped>\n",
              "    .dataframe tbody tr th:only-of-type {\n",
              "        vertical-align: middle;\n",
              "    }\n",
              "\n",
              "    .dataframe tbody tr th {\n",
              "        vertical-align: top;\n",
              "    }\n",
              "\n",
              "    .dataframe thead th {\n",
              "        text-align: right;\n",
              "    }\n",
              "</style>\n",
              "<table border=\"1\" class=\"dataframe\">\n",
              "  <thead>\n",
              "    <tr style=\"text-align: right;\">\n",
              "      <th></th>\n",
              "      <th>CreditScore</th>\n",
              "      <th>Age</th>\n",
              "      <th>Tenure</th>\n",
              "      <th>Balance</th>\n",
              "      <th>NumOfProducts</th>\n",
              "      <th>HasCrCard</th>\n",
              "      <th>IsActiveMember</th>\n",
              "      <th>EstimatedSalary</th>\n",
              "      <th>Germany</th>\n",
              "      <th>Spain</th>\n",
              "      <th>Male</th>\n",
              "    </tr>\n",
              "  </thead>\n",
              "  <tbody>\n",
              "    <tr>\n",
              "      <th>0</th>\n",
              "      <td>619</td>\n",
              "      <td>42</td>\n",
              "      <td>2</td>\n",
              "      <td>0.00</td>\n",
              "      <td>1</td>\n",
              "      <td>1</td>\n",
              "      <td>1</td>\n",
              "      <td>101348.88</td>\n",
              "      <td>0</td>\n",
              "      <td>0</td>\n",
              "      <td>0</td>\n",
              "    </tr>\n",
              "    <tr>\n",
              "      <th>1</th>\n",
              "      <td>608</td>\n",
              "      <td>41</td>\n",
              "      <td>1</td>\n",
              "      <td>83807.86</td>\n",
              "      <td>1</td>\n",
              "      <td>0</td>\n",
              "      <td>1</td>\n",
              "      <td>112542.58</td>\n",
              "      <td>0</td>\n",
              "      <td>1</td>\n",
              "      <td>0</td>\n",
              "    </tr>\n",
              "    <tr>\n",
              "      <th>2</th>\n",
              "      <td>502</td>\n",
              "      <td>42</td>\n",
              "      <td>8</td>\n",
              "      <td>159660.80</td>\n",
              "      <td>3</td>\n",
              "      <td>1</td>\n",
              "      <td>0</td>\n",
              "      <td>113931.57</td>\n",
              "      <td>0</td>\n",
              "      <td>0</td>\n",
              "      <td>0</td>\n",
              "    </tr>\n",
              "    <tr>\n",
              "      <th>3</th>\n",
              "      <td>699</td>\n",
              "      <td>39</td>\n",
              "      <td>1</td>\n",
              "      <td>0.00</td>\n",
              "      <td>2</td>\n",
              "      <td>0</td>\n",
              "      <td>0</td>\n",
              "      <td>93826.63</td>\n",
              "      <td>0</td>\n",
              "      <td>0</td>\n",
              "      <td>0</td>\n",
              "    </tr>\n",
              "    <tr>\n",
              "      <th>4</th>\n",
              "      <td>850</td>\n",
              "      <td>43</td>\n",
              "      <td>2</td>\n",
              "      <td>125510.82</td>\n",
              "      <td>1</td>\n",
              "      <td>1</td>\n",
              "      <td>1</td>\n",
              "      <td>79084.10</td>\n",
              "      <td>0</td>\n",
              "      <td>1</td>\n",
              "      <td>0</td>\n",
              "    </tr>\n",
              "  </tbody>\n",
              "</table>\n",
              "</div>\n",
              "      <button class=\"colab-df-convert\" onclick=\"convertToInteractive('df-da47aa5e-3682-4919-a8d0-f6e0348f08a8')\"\n",
              "              title=\"Convert this dataframe to an interactive table.\"\n",
              "              style=\"display:none;\">\n",
              "        \n",
              "  <svg xmlns=\"http://www.w3.org/2000/svg\" height=\"24px\"viewBox=\"0 0 24 24\"\n",
              "       width=\"24px\">\n",
              "    <path d=\"M0 0h24v24H0V0z\" fill=\"none\"/>\n",
              "    <path d=\"M18.56 5.44l.94 2.06.94-2.06 2.06-.94-2.06-.94-.94-2.06-.94 2.06-2.06.94zm-11 1L8.5 8.5l.94-2.06 2.06-.94-2.06-.94L8.5 2.5l-.94 2.06-2.06.94zm10 10l.94 2.06.94-2.06 2.06-.94-2.06-.94-.94-2.06-.94 2.06-2.06.94z\"/><path d=\"M17.41 7.96l-1.37-1.37c-.4-.4-.92-.59-1.43-.59-.52 0-1.04.2-1.43.59L10.3 9.45l-7.72 7.72c-.78.78-.78 2.05 0 2.83L4 21.41c.39.39.9.59 1.41.59.51 0 1.02-.2 1.41-.59l7.78-7.78 2.81-2.81c.8-.78.8-2.07 0-2.86zM5.41 20L4 18.59l7.72-7.72 1.47 1.35L5.41 20z\"/>\n",
              "  </svg>\n",
              "      </button>\n",
              "      \n",
              "  <style>\n",
              "    .colab-df-container {\n",
              "      display:flex;\n",
              "      flex-wrap:wrap;\n",
              "      gap: 12px;\n",
              "    }\n",
              "\n",
              "    .colab-df-convert {\n",
              "      background-color: #E8F0FE;\n",
              "      border: none;\n",
              "      border-radius: 50%;\n",
              "      cursor: pointer;\n",
              "      display: none;\n",
              "      fill: #1967D2;\n",
              "      height: 32px;\n",
              "      padding: 0 0 0 0;\n",
              "      width: 32px;\n",
              "    }\n",
              "\n",
              "    .colab-df-convert:hover {\n",
              "      background-color: #E2EBFA;\n",
              "      box-shadow: 0px 1px 2px rgba(60, 64, 67, 0.3), 0px 1px 3px 1px rgba(60, 64, 67, 0.15);\n",
              "      fill: #174EA6;\n",
              "    }\n",
              "\n",
              "    [theme=dark] .colab-df-convert {\n",
              "      background-color: #3B4455;\n",
              "      fill: #D2E3FC;\n",
              "    }\n",
              "\n",
              "    [theme=dark] .colab-df-convert:hover {\n",
              "      background-color: #434B5C;\n",
              "      box-shadow: 0px 1px 3px 1px rgba(0, 0, 0, 0.15);\n",
              "      filter: drop-shadow(0px 1px 2px rgba(0, 0, 0, 0.3));\n",
              "      fill: #FFFFFF;\n",
              "    }\n",
              "  </style>\n",
              "\n",
              "      <script>\n",
              "        const buttonEl =\n",
              "          document.querySelector('#df-da47aa5e-3682-4919-a8d0-f6e0348f08a8 button.colab-df-convert');\n",
              "        buttonEl.style.display =\n",
              "          google.colab.kernel.accessAllowed ? 'block' : 'none';\n",
              "\n",
              "        async function convertToInteractive(key) {\n",
              "          const element = document.querySelector('#df-da47aa5e-3682-4919-a8d0-f6e0348f08a8');\n",
              "          const dataTable =\n",
              "            await google.colab.kernel.invokeFunction('convertToInteractive',\n",
              "                                                     [key], {});\n",
              "          if (!dataTable) return;\n",
              "\n",
              "          const docLinkHtml = 'Like what you see? Visit the ' +\n",
              "            '<a target=\"_blank\" href=https://colab.research.google.com/notebooks/data_table.ipynb>data table notebook</a>'\n",
              "            + ' to learn more about interactive tables.';\n",
              "          element.innerHTML = '';\n",
              "          dataTable['output_type'] = 'display_data';\n",
              "          await google.colab.output.renderOutput(dataTable, element);\n",
              "          const docLink = document.createElement('div');\n",
              "          docLink.innerHTML = docLinkHtml;\n",
              "          element.appendChild(docLink);\n",
              "        }\n",
              "      </script>\n",
              "    </div>\n",
              "  </div>\n",
              "  "
            ]
          },
          "metadata": {},
          "execution_count": 164
        }
      ]
    },
    {
      "cell_type": "markdown",
      "source": [
        "#final concatenation\n",
        "(i am describing above all ection when convaerstin stared)\n",
        "\n",
        "-what happen here we are 1 st goint to conver gender and geograpy to string into int\n",
        "\n",
        "- sencond drop original gender and geograpy feature which have String value\n",
        "\n",
        "- assign converted feature to label so we can stored that converted data into vvariable\n",
        "\n",
        "- 3 after droping original we use that converted data which is stored into varible and concate all converted feature to tables independed other features\n"
      ],
      "metadata": {
        "id": "exirX3jFvzHg"
      }
    },
    {
      "cell_type": "markdown",
      "source": [
        "# spiltting data set into Traning set and test set"
      ],
      "metadata": {
        "id": "pFQ7stXc3eBr"
      }
    },
    {
      "cell_type": "code",
      "source": [
        "\n",
        "\n",
        "from sklearn.model_selection import train_test_split\n",
        "\n",
        "X_train,X_test,Y_train,Y_test = train_test_split(X,Y,test_size = 0.2, random_state = 0)"
      ],
      "metadata": {
        "id": "GxZNsp6TyIcZ"
      },
      "execution_count": null,
      "outputs": []
    },
    {
      "cell_type": "markdown",
      "source": [
        "# feature Scalling\n",
        "\n",
        "( what is feature scaling why we use im written in 1 st section in interview que section)"
      ],
      "metadata": {
        "id": "XIQRinDu32k_"
      }
    },
    {
      "cell_type": "code",
      "source": [
        "from sklearn.preprocessing import StandardScaler\n",
        "sc = StandardScaler()   # initalize standard scaler\n",
        "X_train = sc.fit_transform(X_train)\n",
        "X_test = sc.transform(X_test)"
      ],
      "metadata": {
        "id": "b3xoDO904E7y"
      },
      "execution_count": null,
      "outputs": []
    },
    {
      "cell_type": "markdown",
      "source": [
        "Standard scaler : its based on the Z-Score\n",
        "                - supposed when ur data is normalized its bascially roted arround ur mean value with some standard derivetion to right and the left for that reason we use standard scaler\n",
        "\n",
        "\n",
        "-min max scaler: apply into CNN :- we used to restrict between 0 to 1 -1 to +1\n",
        "\n",
        "\n",
        "\n"
      ],
      "metadata": {
        "id": "s8h8PtTw4Qs_"
      }
    },
    {
      "cell_type": "code",
      "source": [
        "X_train     # see that all transformted data"
      ],
      "metadata": {
        "colab": {
          "base_uri": "https://localhost:8080/"
        },
        "id": "wGi-7Ofn6R_H",
        "outputId": "a2c7e29a-7fbd-4f3e-d346-0ce7b1fc4856"
      },
      "execution_count": null,
      "outputs": [
        {
          "output_type": "execute_result",
          "data": {
            "text/plain": [
              "array([[ 0.16958176, -0.46460796,  0.00666099, ..., -0.5698444 ,\n",
              "         1.74309049, -1.09168714],\n",
              "       [-2.30455945,  0.30102557, -1.37744033, ...,  1.75486502,\n",
              "        -0.57369368,  0.91601335],\n",
              "       [-1.19119591, -0.94312892, -1.031415  , ..., -0.5698444 ,\n",
              "        -0.57369368, -1.09168714],\n",
              "       ...,\n",
              "       [ 0.9015152 , -0.36890377,  0.00666099, ..., -0.5698444 ,\n",
              "        -0.57369368,  0.91601335],\n",
              "       [-0.62420521, -0.08179119,  1.39076231, ..., -0.5698444 ,\n",
              "         1.74309049, -1.09168714],\n",
              "       [-0.28401079,  0.87525072, -1.37744033, ...,  1.75486502,\n",
              "        -0.57369368, -1.09168714]])"
            ]
          },
          "metadata": {},
          "execution_count": 167
        }
      ]
    },
    {
      "cell_type": "code",
      "source": [
        "X_test"
      ],
      "metadata": {
        "colab": {
          "base_uri": "https://localhost:8080/"
        },
        "id": "njJ9wwMu5tXM",
        "outputId": "17efa49d-b912-4217-c9c5-12cc8ff6fd89"
      },
      "execution_count": null,
      "outputs": [
        {
          "output_type": "execute_result",
          "data": {
            "text/plain": [
              "array([[-0.55204276, -0.36890377,  1.04473698, ...,  1.75486502,\n",
              "        -0.57369368, -1.09168714],\n",
              "       [-1.31490297,  0.10961719, -1.031415  , ..., -0.5698444 ,\n",
              "        -0.57369368, -1.09168714],\n",
              "       [ 0.57162971,  0.30102557,  1.04473698, ..., -0.5698444 ,\n",
              "         1.74309049, -1.09168714],\n",
              "       ...,\n",
              "       [-0.74791227, -0.27319958, -1.37744033, ..., -0.5698444 ,\n",
              "         1.74309049,  0.91601335],\n",
              "       [-0.00566991, -0.46460796, -0.33936434, ...,  1.75486502,\n",
              "        -0.57369368,  0.91601335],\n",
              "       [-0.79945688, -0.84742473,  1.04473698, ...,  1.75486502,\n",
              "        -0.57369368,  0.91601335]])"
            ]
          },
          "metadata": {},
          "execution_count": 168
        }
      ]
    },
    {
      "cell_type": "code",
      "source": [
        "X_train.shape   # chack out shape"
      ],
      "metadata": {
        "colab": {
          "base_uri": "https://localhost:8080/"
        },
        "id": "NGQtAWiW60ew",
        "outputId": "bb0031c2-07f8-40a3-da39-b9f52c2e376d"
      },
      "execution_count": null,
      "outputs": [
        {
          "output_type": "execute_result",
          "data": {
            "text/plain": [
              "(8000, 11)"
            ]
          },
          "metadata": {},
          "execution_count": 169
        }
      ]
    },
    {
      "cell_type": "code",
      "source": [
        "X_test.shape"
      ],
      "metadata": {
        "colab": {
          "base_uri": "https://localhost:8080/"
        },
        "id": "2IXT3tIZ68fD",
        "outputId": "da5d35b9-0062-42b5-822e-4fc00f287688"
      },
      "execution_count": null,
      "outputs": [
        {
          "output_type": "execute_result",
          "data": {
            "text/plain": [
              "(2000, 11)"
            ]
          },
          "metadata": {},
          "execution_count": 170
        }
      ]
    },
    {
      "cell_type": "markdown",
      "source": [
        " \n",
        "## part 2  Create ANN"
      ],
      "metadata": {
        "id": "_psE1gpP8e8V"
      }
    },
    {
      "cell_type": "code",
      "source": [
        ""
      ],
      "metadata": {
        "id": "y8jguaR8CrNY"
      },
      "execution_count": null,
      "outputs": []
    },
    {
      "cell_type": "code",
      "source": [
        "from tensorflow.keras.models import Sequential\n",
        "from tensorflow.keras.layers import Dense\n",
        "from tensorflow.keras.layers import LeakyReLU, ReLU, PReLU, ELU\n",
        "from tensorflow.keras.layers import Dropout"
      ],
      "metadata": {
        "id": "OF10_pqv8oNv"
      },
      "execution_count": null,
      "outputs": []
    },
    {
      "cell_type": "markdown",
      "source": [
        "- **Sequential** : - means we have a block into that block we have \n",
        "\n",
        "           * input layer :11 input node \n",
        "           * hidden layer : some nurons\n",
        "           * another hidden layer : some nurons \n",
        "          - output layer : one output node\n",
        "\n",
        "-we have that block and we are going to use seuentaially one by one so we use a sub library Sequential\n",
        "\n",
        "-forwork and bakwork propogation done by Sequentials \n",
        "\n",
        "- **Dense Layer**: able to create circules in all layers\n",
        "\n",
        "- **Droup out Layer** : we have inter-connected multi layer nural n/w layer . that nurons use to sloved complex problem. we are doning forword and backword propogation we are continuesly monitering the loss function and help of the optimizer will alwes come to a global minima in some time.\n",
        "- what the problrm that entire nural n/w lead to overfitting.\n",
        "- what is overfitting : means for traing my accuracy is good/high bt for testmy accuracy is going dowen\n",
        "  * for Reduce Overfitting we use Droup out layer\n",
        "  * Droup out is just a regularization paramter in ML\n",
        "  * n1 noum, n2 noum ???(search by userself)\n",
        "* Droup Out do : for every layer ex my droup out ratio is 0.3 is indicated that 30%  of entired neuron that are present will get deactivated while traning.\n",
        "* ex: drop out ration is 0.3(30%) / 0.5 (50%) is 1 neuron out of all this will get deactivated during traning while the forword and backword prapogation will happening you see that this will get deactivated.\n",
        "* selection of deactivation is randomly.\n",
        "* cut out all the layels after deactivation of nurons / no need for stay will dead neurons\n"
      ],
      "metadata": {
        "id": "uN5VFidUAxt1"
      }
    },
    {
      "cell_type": "code",
      "source": [
        "# initalize ANN\n",
        "classifire = Sequential()"
      ],
      "metadata": {
        "id": "kjWwM8pbIJbA"
      },
      "execution_count": null,
      "outputs": []
    },
    {
      "cell_type": "code",
      "source": [
        "# adding i/p layer\n",
        "# how to now how may i/p are there ?? \n",
        "# go to X_tran.shape see( some no, i/p layer no) (8000, 11)\n",
        "# we hed 11 i/p layers/ units\n",
        "\n",
        "classifire.add(Dense(units=11,activation='relu'))"
      ],
      "metadata": {
        "id": "mdn62Kd8Icfi"
      },
      "execution_count": null,
      "outputs": []
    },
    {
      "cell_type": "code",
      "source": [
        "#adding 1 st hidden layer\n",
        "# what ever no/unit we are assine not fix (6/7/8/5) anything\n",
        "\n",
        "classifire.add(Dense(units=6,activation='relu'))\n",
        "\n",
        "# adding droup out layer\n",
        "classifire.add(Dropout(0.3))\n"
      ],
      "metadata": {
        "id": "xEJg7I8wIci2"
      },
      "execution_count": null,
      "outputs": []
    },
    {
      "cell_type": "markdown",
      "source": [
        ""
      ],
      "metadata": {
        "id": "dFD65l-cU9Wg"
      }
    },
    {
      "cell_type": "code",
      "source": [
        "# adding 2 nd hidden layer\n",
        "\n",
        "classifire.add(Dense(units=6,activation='relu'))\n",
        "\n",
        "# adding droup out to every layer\n",
        "classifire.add(Dropout(0.2))"
      ],
      "metadata": {
        "id": "9uKv659pJuQd"
      },
      "execution_count": null,
      "outputs": []
    },
    {
      "cell_type": "code",
      "source": [
        "#adding output layer\n",
        "# binary classifiction problem so we use 1 nueron for o/p layer\n",
        "# activation function for binary classification problem : sigmoid \n",
        "\n",
        "classifire.add(Dense(1,activation='sigmoid'))"
      ],
      "metadata": {
        "id": "4p9ncwf3KC_l"
      },
      "execution_count": null,
      "outputs": []
    },
    {
      "cell_type": "markdown",
      "source": [
        "Train entire NN"
      ],
      "metadata": {
        "id": "_dABgm7bLCQs"
      }
    },
    {
      "cell_type": "code",
      "source": [
        "# set up learning rate for optimizer\n",
        "# form Adem optimizer we can set learning rate\n",
        "# we can directly difine optimize ='adam' : its automatically set learning rate \n",
        "\n",
        "import tensorflow\n",
        "opt = tensorflow.keras.optimizers.Adam(learning_rate = 0.01)\n"
      ],
      "metadata": {
        "id": "QccsOh0GL_GP"
      },
      "execution_count": null,
      "outputs": []
    },
    {
      "cell_type": "markdown",
      "source": [
        "* compile all nn , apply optimizer = adam most popular\n",
        "* loss function for binary classification = entropy\n",
        "* metric = accuracu metrics\n",
        "\n",
        "* classifire.compile(optimizer ='adam',loss ='binary_crossentropy', metrics['accuracy'])\n",
        "* form Adem optimizer they set learning rate by defort\n",
        "* we can directly difine optimize ='adam' : its automatically set learning rate \n",
        "\n",
        "* or set up learning rate by user (difine in below section)"
      ],
      "metadata": {
        "id": "18Nu-IQSOJAD"
      }
    },
    {
      "cell_type": "code",
      "source": [
        "classifire.compile(optimizer = opt,loss ='binary_crossentropy', metrics=['accuracy'])"
      ],
      "metadata": {
        "id": "XjOeLOHtK-Gj"
      },
      "execution_count": null,
      "outputs": []
    },
    {
      "cell_type": "code",
      "source": [
        "# early stopping :- its make sure that when the \n",
        "#accuracy is not at all increasing\n",
        "#automatically traning of the modle is stop\n",
        "# copying code from: early Stoping form keras and modifie some\n",
        "\n",
        "import tensorflow as tf\n",
        "\n",
        "early_stopping= tf.keras.callbacks.EarlyStopping(\n",
        "    monitor=\"val_loss\",\n",
        "    min_delta=0.0001,\n",
        "    patience=20,\n",
        "    verbose=1,\n",
        "    mode=\"auto\",\n",
        "    baseline=None,\n",
        "    restore_best_weights=False,\n",
        ")\n"
      ],
      "metadata": {
        "id": "QVpOuxs5x6u-"
      },
      "execution_count": null,
      "outputs": []
    },
    {
      "cell_type": "markdown",
      "source": [
        "Arguments\n",
        "* monitor: Quantity to be monitored.\n",
        "* min_delta: Minimum change in the monitored quantity to qualify as an improvement, i.e. an absolute change of less than min_delta, will count as no improvement.\n",
        "* patience: Number of epochs with no improvement after which training will be stopped.\n",
        "* verbose: Verbosity mode, 0 or 1. Mode 0 is silent, and mode 1 displays messages when the callback takes an action.\n",
        "* mode: One of {\"auto\", \"min\", \"max\"}. In min mode, training will stop when the quantity monitored has stopped decreasing; in \"max\" mode it will stop when the quantity monitored has stopped increasing; in \"auto\" mode, the direction is automatically inferred from the name of the monitored quantity.\n",
        "* baseline: Baseline value for the monitored quantity. Training will stop if the model doesn't show improvement over the baseline.\n",
        "* restore_best_weights: Whether to restore model weights from the epoch with the best value of the monitored quantity. If False, the model weights obtained at the last step of training are used. An epoch will be restored regardless of the performance relative to the baseline. If no epoch improves on baseline, training will run for patience epochs and restore weights from the best epoch in that set.\n"
      ],
      "metadata": {
        "id": "iYbiSdCq1mHk"
      }
    },
    {
      "cell_type": "code",
      "source": [
        "model_history = classifire.fit(X_train,Y_train,validation_split=0.33, batch_size = 10, epochs = 1000, callbacks=early_stopping)"
      ],
      "metadata": {
        "colab": {
          "base_uri": "https://localhost:8080/"
        },
        "id": "agMMcjcJO6ES",
        "outputId": "13d0ad07-b7d1-48eb-834f-11138d1503be"
      },
      "execution_count": null,
      "outputs": [
        {
          "output_type": "stream",
          "name": "stdout",
          "text": [
            "Epoch 1/1000\n",
            "536/536 [==============================] - 3s 4ms/step - loss: 0.4703 - accuracy: 0.7966 - val_loss: 0.4060 - val_accuracy: 0.8156\n",
            "Epoch 2/1000\n",
            "536/536 [==============================] - 2s 3ms/step - loss: 0.4092 - accuracy: 0.8250 - val_loss: 0.3785 - val_accuracy: 0.8387\n",
            "Epoch 3/1000\n",
            "536/536 [==============================] - 1s 3ms/step - loss: 0.3937 - accuracy: 0.8354 - val_loss: 0.3860 - val_accuracy: 0.8413\n",
            "Epoch 4/1000\n",
            "536/536 [==============================] - 2s 3ms/step - loss: 0.3824 - accuracy: 0.8425 - val_loss: 0.3730 - val_accuracy: 0.8436\n",
            "Epoch 5/1000\n",
            "536/536 [==============================] - 2s 3ms/step - loss: 0.3852 - accuracy: 0.8405 - val_loss: 0.3778 - val_accuracy: 0.8304\n",
            "Epoch 6/1000\n",
            "536/536 [==============================] - 2s 3ms/step - loss: 0.3808 - accuracy: 0.8401 - val_loss: 0.3797 - val_accuracy: 0.8440\n",
            "Epoch 7/1000\n",
            "536/536 [==============================] - 2s 3ms/step - loss: 0.3787 - accuracy: 0.8391 - val_loss: 0.3805 - val_accuracy: 0.8372\n",
            "Epoch 8/1000\n",
            "536/536 [==============================] - 2s 3ms/step - loss: 0.3786 - accuracy: 0.8434 - val_loss: 0.3715 - val_accuracy: 0.8417\n",
            "Epoch 9/1000\n",
            "536/536 [==============================] - 1s 3ms/step - loss: 0.3733 - accuracy: 0.8423 - val_loss: 0.3729 - val_accuracy: 0.8398\n",
            "Epoch 10/1000\n",
            "536/536 [==============================] - 2s 3ms/step - loss: 0.3792 - accuracy: 0.8380 - val_loss: 0.3612 - val_accuracy: 0.8470\n",
            "Epoch 11/1000\n",
            "536/536 [==============================] - 1s 3ms/step - loss: 0.3728 - accuracy: 0.8447 - val_loss: 0.3709 - val_accuracy: 0.8395\n",
            "Epoch 12/1000\n",
            "536/536 [==============================] - 1s 3ms/step - loss: 0.3737 - accuracy: 0.8440 - val_loss: 0.3656 - val_accuracy: 0.8463\n",
            "Epoch 13/1000\n",
            "536/536 [==============================] - 1s 3ms/step - loss: 0.3760 - accuracy: 0.8423 - val_loss: 0.3779 - val_accuracy: 0.8485\n",
            "Epoch 14/1000\n",
            "536/536 [==============================] - 2s 3ms/step - loss: 0.3706 - accuracy: 0.8464 - val_loss: 0.3653 - val_accuracy: 0.8432\n",
            "Epoch 15/1000\n",
            "536/536 [==============================] - 2s 3ms/step - loss: 0.3687 - accuracy: 0.8434 - val_loss: 0.3873 - val_accuracy: 0.8217\n",
            "Epoch 16/1000\n",
            "536/536 [==============================] - 1s 3ms/step - loss: 0.3691 - accuracy: 0.8475 - val_loss: 0.3689 - val_accuracy: 0.8436\n",
            "Epoch 17/1000\n",
            "536/536 [==============================] - 2s 3ms/step - loss: 0.3662 - accuracy: 0.8490 - val_loss: 0.3779 - val_accuracy: 0.8323\n",
            "Epoch 18/1000\n",
            "536/536 [==============================] - 1s 3ms/step - loss: 0.3632 - accuracy: 0.8490 - val_loss: 0.3712 - val_accuracy: 0.8470\n",
            "Epoch 19/1000\n",
            "536/536 [==============================] - 1s 3ms/step - loss: 0.3633 - accuracy: 0.8485 - val_loss: 0.3719 - val_accuracy: 0.8398\n",
            "Epoch 20/1000\n",
            "536/536 [==============================] - 2s 3ms/step - loss: 0.3640 - accuracy: 0.8470 - val_loss: 0.3716 - val_accuracy: 0.8391\n",
            "Epoch 21/1000\n",
            "536/536 [==============================] - 2s 3ms/step - loss: 0.3702 - accuracy: 0.8461 - val_loss: 0.3694 - val_accuracy: 0.8432\n",
            "Epoch 22/1000\n",
            "536/536 [==============================] - 2s 3ms/step - loss: 0.3660 - accuracy: 0.8453 - val_loss: 0.3883 - val_accuracy: 0.8232\n",
            "Epoch 23/1000\n",
            "536/536 [==============================] - 1s 3ms/step - loss: 0.3716 - accuracy: 0.8419 - val_loss: 0.3863 - val_accuracy: 0.8190\n",
            "Epoch 24/1000\n",
            "536/536 [==============================] - 2s 3ms/step - loss: 0.3649 - accuracy: 0.8470 - val_loss: 0.3678 - val_accuracy: 0.8432\n",
            "Epoch 25/1000\n",
            "536/536 [==============================] - 2s 3ms/step - loss: 0.3655 - accuracy: 0.8502 - val_loss: 0.3735 - val_accuracy: 0.8425\n",
            "Epoch 26/1000\n",
            "536/536 [==============================] - 1s 3ms/step - loss: 0.3624 - accuracy: 0.8503 - val_loss: 0.3706 - val_accuracy: 0.8546\n",
            "Epoch 27/1000\n",
            "536/536 [==============================] - 2s 4ms/step - loss: 0.3615 - accuracy: 0.8500 - val_loss: 0.3696 - val_accuracy: 0.8474\n",
            "Epoch 28/1000\n",
            "536/536 [==============================] - 2s 3ms/step - loss: 0.3622 - accuracy: 0.8507 - val_loss: 0.3655 - val_accuracy: 0.8519\n",
            "Epoch 29/1000\n",
            "536/536 [==============================] - 1s 3ms/step - loss: 0.3620 - accuracy: 0.8498 - val_loss: 0.3595 - val_accuracy: 0.8531\n",
            "Epoch 30/1000\n",
            "536/536 [==============================] - 1s 3ms/step - loss: 0.3535 - accuracy: 0.8524 - val_loss: 0.3827 - val_accuracy: 0.8474\n",
            "Epoch 31/1000\n",
            "536/536 [==============================] - 2s 3ms/step - loss: 0.3588 - accuracy: 0.8500 - val_loss: 0.3760 - val_accuracy: 0.8357\n",
            "Epoch 32/1000\n",
            "536/536 [==============================] - 1s 3ms/step - loss: 0.3619 - accuracy: 0.8481 - val_loss: 0.3682 - val_accuracy: 0.8489\n",
            "Epoch 33/1000\n",
            "536/536 [==============================] - 1s 3ms/step - loss: 0.3562 - accuracy: 0.8509 - val_loss: 0.3787 - val_accuracy: 0.8546\n",
            "Epoch 34/1000\n",
            "536/536 [==============================] - 1s 3ms/step - loss: 0.3610 - accuracy: 0.8507 - val_loss: 0.3739 - val_accuracy: 0.8501\n",
            "Epoch 35/1000\n",
            "536/536 [==============================] - 2s 3ms/step - loss: 0.3548 - accuracy: 0.8543 - val_loss: 0.3723 - val_accuracy: 0.8448\n",
            "Epoch 36/1000\n",
            "536/536 [==============================] - 1s 3ms/step - loss: 0.3618 - accuracy: 0.8513 - val_loss: 0.3676 - val_accuracy: 0.8501\n",
            "Epoch 37/1000\n",
            "536/536 [==============================] - 2s 3ms/step - loss: 0.3593 - accuracy: 0.8520 - val_loss: 0.3712 - val_accuracy: 0.8516\n",
            "Epoch 38/1000\n",
            "536/536 [==============================] - 2s 3ms/step - loss: 0.3558 - accuracy: 0.8511 - val_loss: 0.3786 - val_accuracy: 0.8478\n",
            "Epoch 39/1000\n",
            "536/536 [==============================] - 2s 3ms/step - loss: 0.3565 - accuracy: 0.8541 - val_loss: 0.3775 - val_accuracy: 0.8357\n",
            "Epoch 40/1000\n",
            "536/536 [==============================] - 2s 3ms/step - loss: 0.3564 - accuracy: 0.8507 - val_loss: 0.3830 - val_accuracy: 0.8550\n",
            "Epoch 41/1000\n",
            "536/536 [==============================] - 2s 4ms/step - loss: 0.3525 - accuracy: 0.8545 - val_loss: 0.3823 - val_accuracy: 0.8364\n",
            "Epoch 42/1000\n",
            "536/536 [==============================] - 2s 3ms/step - loss: 0.3601 - accuracy: 0.8483 - val_loss: 0.3694 - val_accuracy: 0.8512\n",
            "Epoch 43/1000\n",
            "536/536 [==============================] - 1s 3ms/step - loss: 0.3559 - accuracy: 0.8530 - val_loss: 0.3693 - val_accuracy: 0.8554\n",
            "Epoch 44/1000\n",
            "536/536 [==============================] - 1s 3ms/step - loss: 0.3617 - accuracy: 0.8477 - val_loss: 0.3630 - val_accuracy: 0.8508\n",
            "Epoch 45/1000\n",
            "536/536 [==============================] - 1s 3ms/step - loss: 0.3541 - accuracy: 0.8507 - val_loss: 0.3796 - val_accuracy: 0.8323\n",
            "Epoch 46/1000\n",
            "536/536 [==============================] - 1s 3ms/step - loss: 0.3568 - accuracy: 0.8507 - val_loss: 0.3720 - val_accuracy: 0.8512\n",
            "Epoch 47/1000\n",
            "536/536 [==============================] - 1s 3ms/step - loss: 0.3542 - accuracy: 0.8513 - val_loss: 0.3745 - val_accuracy: 0.8436\n",
            "Epoch 48/1000\n",
            "536/536 [==============================] - 1s 3ms/step - loss: 0.3581 - accuracy: 0.8520 - val_loss: 0.3683 - val_accuracy: 0.8554\n",
            "Epoch 49/1000\n",
            "536/536 [==============================] - 1s 3ms/step - loss: 0.3594 - accuracy: 0.8459 - val_loss: 0.3680 - val_accuracy: 0.8459\n",
            "Epoch 49: early stopping\n"
          ]
        }
      ]
    },
    {
      "cell_type": "markdown",
      "source": [
        "**validatation_split** :- how many data you are going to validate is 0.33\n",
        "                      - so they take 0.67 data its take for traning"
      ],
      "metadata": {
        "id": "I8PEtAq1wW3C"
      }
    },
    {
      "cell_type": "code",
      "source": [
        "model_history.history.keys()  # what parameter we are specificly focuse on"
      ],
      "metadata": {
        "colab": {
          "base_uri": "https://localhost:8080/"
        },
        "id": "fenYLLkAxP4u",
        "outputId": "ec358f85-e977-4cb7-a8a0-0a77ece6f817"
      },
      "execution_count": null,
      "outputs": [
        {
          "output_type": "execute_result",
          "data": {
            "text/plain": [
              "dict_keys(['loss', 'accuracy', 'val_loss', 'val_accuracy'])"
            ]
          },
          "metadata": {},
          "execution_count": 181
        }
      ]
    },
    {
      "cell_type": "code",
      "source": [
        "#Plot summarize history for accuracy\n",
        "\n",
        "plt.plot(model_history.history['accuracy'])\n",
        "plt.plot(model_history.history['val_accuracy'])\n",
        "plt.title('model accuracy')\n",
        "plt.ylabel('accuracy')\n",
        "plt.xlabel('epoch')\n",
        "plt.legend(['train','test'], loc = 'upper left')    # train and lest label in a graph uper left corner\n",
        "plt.show()"
      ],
      "metadata": {
        "colab": {
          "base_uri": "https://localhost:8080/",
          "height": 295
        },
        "id": "YNptu0Bt2U1o",
        "outputId": "3d6481f0-74f4-43e6-c5cb-cf7664d69475"
      },
      "execution_count": null,
      "outputs": [
        {
          "output_type": "display_data",
          "data": {
            "text/plain": [
              "<Figure size 432x288 with 1 Axes>"
            ],
            "image/png": "[encoded data removed]"
          },
          "metadata": {
            "needs_background": "light"
          }
        }
      ]
    },
    {
      "cell_type": "markdown",
      "source": [
        ""
      ],
      "metadata": {
        "id": "7aNa9c7mFF1R"
      }
    },
    {
      "cell_type": "code",
      "source": [
        "#Plot summarize history for accuracy\n",
        "\n",
        "plt.plot(model_history.history['loss'])\n",
        "plt.plot(model_history.history['val_loss'])\n",
        "plt.title('model loss')\n",
        "plt.ylabel('loss')\n",
        "plt.xlabel('epoch')\n",
        "plt.legend(['train','test'], loc = 'upper left')    # train and lest label in a graph uper left corner\n",
        "plt.show()"
      ],
      "metadata": {
        "colab": {
          "base_uri": "https://localhost:8080/",
          "height": 295
        },
        "id": "JMELu-HA5IzB",
        "outputId": "faf239a6-7682-42c0-e81e-53e0abb6cb5f"
      },
      "execution_count": null,
      "outputs": [
        {
          "output_type": "display_data",
          "data": {
            "text/plain": [
              "<Figure size 432x288 with 1 Axes>"
            ],
            "image/png": "[encoded data removed]"
          },
          "metadata": {
            "needs_background": "light"
          }
        }
      ]
    },
    {
      "cell_type": "markdown",
      "source": [
        "## part 3: prediction for the test data"
      ],
      "metadata": {
        "id": "9tYzkyf85n-5"
      }
    },
    {
      "cell_type": "code",
      "source": [
        "#predicting the test set result\n",
        "\n",
        "y_pred = classifire.predict(X_test)\n",
        "y_pred = (y_pred > 0.5)\n"
      ],
      "metadata": {
        "id": "Q9qynTNN5mC2"
      },
      "execution_count": null,
      "outputs": []
    },
    {
      "cell_type": "code",
      "source": [
        "# make the confusion materix\n",
        "from sklearn.metrics import confusion_matrix\n",
        "cm = confusion_matrix(Y_test,y_pred)\n",
        "cm\n"
      ],
      "metadata": {
        "colab": {
          "base_uri": "https://localhost:8080/"
        },
        "id": "CHPud0pw5mT2",
        "outputId": "6f89e61f-b959-4e68-99b7-44cb1568da36"
      },
      "execution_count": null,
      "outputs": [
        {
          "output_type": "execute_result",
          "data": {
            "text/plain": [
              "array([[1578,   17],\n",
              "       [ 278,  127]])"
            ]
          },
          "metadata": {},
          "execution_count": 185
        }
      ]
    },
    {
      "cell_type": "code",
      "source": [
        "# calculate accuracy\n",
        "\n",
        "from sklearn.metrics import accuracy_score\n",
        "score = accuracy_score(Y_test,y_pred)\n",
        "score"
      ],
      "metadata": {
        "colab": {
          "base_uri": "https://localhost:8080/"
        },
        "id": "AprlQgSmHCqS",
        "outputId": "b10acd67-49e2-4c5f-a314-88886bdcf349"
      },
      "execution_count": null,
      "outputs": [
        {
          "output_type": "execute_result",
          "data": {
            "text/plain": [
              "0.8525"
            ]
          },
          "metadata": {},
          "execution_count": 186
        }
      ]
    },
    {
      "cell_type": "code",
      "source": [
        "# get the weights\n",
        "\n",
        "classifire.get_weights()"
      ],
      "metadata": {
        "colab": {
          "base_uri": "https://localhost:8080/"
        },
        "id": "8Ntv7CJmSmr9",
        "outputId": "bb1e0204-c1f8-4e46-8736-32442d8bc76d"
      },
      "execution_count": null,
      "outputs": [
        {
          "output_type": "execute_result",
          "data": {
            "text/plain": [
              "[array([[-1.6463861 ,  0.65113294,  0.11397437, -0.07001648,  0.34462866,\n",
              "         -0.47386017,  0.12863296, -0.05280837,  0.25117612,  0.27052334,\n",
              "         -0.04384866],\n",
              "        [-0.08306774, -2.803263  , -2.61559   ,  2.672087  , -1.7826586 ,\n",
              "         -0.11297461,  0.21512374,  3.0084167 ,  1.177258  ,  1.6314285 ,\n",
              "         -1.4111462 ],\n",
              "        [ 0.47674537, -0.45338985, -0.45347407,  0.33216745, -0.9348624 ,\n",
              "          0.3107361 ,  0.19303192, -0.46392053, -0.04314598, -0.52296865,\n",
              "          1.4424461 ],\n",
              "        [ 0.10232304, -0.8570135 , -0.33499017, -0.1976479 ,  0.7182953 ,\n",
              "         -2.1488304 , -3.5585845 ,  0.49768618,  1.1501963 , -0.6917802 ,\n",
              "         -2.25496   ],\n",
              "        [-0.71902806, -0.21033429,  0.16330591, -0.35992423, -0.5994209 ,\n",
              "          1.1813368 , -3.8993933 , -1.931466  ,  3.5164628 , -0.66801554,\n",
              "         -0.7979431 ],\n",
              "        [-0.29356375,  0.06484547, -1.163419  , -0.33804342,  0.17304441,\n",
              "         -0.13554691, -0.19901934, -1.0473086 , -0.00540939,  0.3571894 ,\n",
              "         -0.5059949 ],\n",
              "        [-0.31124684,  0.4014355 , -1.1085689 ,  1.300448  , -1.2279471 ,\n",
              "          1.1845998 ,  0.00494016, -1.0350027 , -0.4499549 , -1.5222974 ,\n",
              "          1.4630297 ],\n",
              "        [ 2.0967686 ,  0.50484693,  0.17483142, -0.23577535, -0.36744073,\n",
              "          1.8758848 , -0.0755111 , -0.21861376, -0.07142033,  0.46456775,\n",
              "         -1.3633614 ],\n",
              "        [-0.7424048 , -0.6648838 , -0.38814145,  0.03573392,  0.31705076,\n",
              "          1.0997783 ,  1.8918387 ,  0.8976979 , -0.57969236, -1.2275583 ,\n",
              "          0.5994618 ],\n",
              "        [-0.7209638 , -0.29791957, -2.601775  ,  0.40635315,  0.44212508,\n",
              "          0.75041324,  0.16872124, -0.38422495,  0.11974774,  0.21070486,\n",
              "         -0.59282804],\n",
              "        [-0.5510421 ,  1.1280961 , -0.9283853 ,  0.2991758 , -0.48759672,\n",
              "          0.90827554, -0.06066244, -0.07640581, -0.03887483, -0.53756773,\n",
              "          1.1722395 ]], dtype=float32),\n",
              " array([-3.9594996,  1.4151337, -0.4672934, -5.222799 , -4.5382323,\n",
              "        -2.6502912, -1.6196827, -0.7578275, -4.2941527, -3.6112525,\n",
              "        -0.2885668], dtype=float32),\n",
              " array([[-1.9538851 ,  0.84313655, -0.45810848, -0.33122584, -2.3915286 ,\n",
              "          0.69032717],\n",
              "        [ 0.22362076, -1.0139556 , -0.03399527,  0.33873478,  0.6350214 ,\n",
              "         -0.9926897 ],\n",
              "        [-0.06896789, -1.3442674 , -0.17922676,  0.27731124,  0.09432408,\n",
              "         -1.4871027 ],\n",
              "        [ 1.0801885 , -3.4080238 , -1.9226441 ,  1.6075432 ,  1.7403482 ,\n",
              "         -4.090449  ],\n",
              "        [-1.6598101 , -1.2469344 , -1.7068095 , -1.8674357 , -1.819037  ,\n",
              "         -0.20045248],\n",
              "        [ 1.2792845 , -0.64955837,  0.4658831 ,  0.85085994,  0.8141244 ,\n",
              "         -0.6465326 ],\n",
              "        [-3.3447511 ,  0.78646487,  0.28435978, -1.8242513 , -1.7070614 ,\n",
              "          0.6521696 ],\n",
              "        [-0.9177929 ,  0.9976625 ,  0.42231232,  0.05401888, -1.2953633 ,\n",
              "          0.6486322 ],\n",
              "        [-2.1043768 ,  2.7530134 ,  1.5606552 , -2.8461087 , -2.0639656 ,\n",
              "          2.6795475 ],\n",
              "        [ 0.02563252,  0.74204534,  0.81714237,  0.106792  ,  0.71493304,\n",
              "          0.8875308 ],\n",
              "        [ 0.3546596 , -0.56053287, -2.97418   ,  0.31570432,  0.62366277,\n",
              "         -0.6737785 ]], dtype=float32),\n",
              " array([ 0.3560164 , -1.1263205 , -2.216976  ,  0.5916931 ,  0.12672937,\n",
              "        -1.0169725 ], dtype=float32),\n",
              " array([[ 0.2888891 ,  0.27581948, -0.43646452,  0.25561613, -0.6192451 ,\n",
              "          0.16026616],\n",
              "        [-0.84056   , -0.9697732 , -0.19441812, -0.6667486 ,  0.7941356 ,\n",
              "         -1.5024551 ],\n",
              "        [-0.92966086, -1.3914837 ,  0.733102  , -0.51919657,  0.95603186,\n",
              "         -0.80101794],\n",
              "        [ 0.23624556,  0.2957548 , -1.1545625 ,  0.366253  , -0.14045501,\n",
              "          0.19081894],\n",
              "        [ 0.35952848,  0.17514648, -0.81368566,  0.24231361, -0.5063954 ,\n",
              "          0.30036047],\n",
              "        [-0.766587  , -0.39528787,  0.7201334 , -0.9172271 , -0.2515805 ,\n",
              "         -2.2181125 ]], dtype=float32),\n",
              " array([ 0.5841413 ,  0.72251445, -2.0163429 ,  0.6977236 , -1.6758367 ,\n",
              "         0.6455112 ], dtype=float32),\n",
              " array([[-0.23662367],\n",
              "        [-0.25525677],\n",
              "        [ 0.16696182],\n",
              "        [-0.2748932 ],\n",
              "        [ 0.15059432],\n",
              "        [-0.243386  ]], dtype=float32),\n",
              " array([-0.6824257], dtype=float32)]"
            ]
          },
          "metadata": {},
          "execution_count": 187
        }
      ]
    },
    {
      "cell_type": "markdown",
      "source": [
        ""
      ],
      "metadata": {
        "id": "-A0aqxe39_01"
      }
    }
  ]
}